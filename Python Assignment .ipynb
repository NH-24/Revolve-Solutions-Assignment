{
 "cells": [
  {
   "cell_type": "code",
   "execution_count": 26,
   "id": "86b4655a",
   "metadata": {},
   "outputs": [],
   "source": [
    "import csv\n"
   ]
  },
  {
   "cell_type": "code",
   "execution_count": 27,
   "id": "835c3ea0",
   "metadata": {},
   "outputs": [
    {
     "name": "stdout",
     "output_type": "stream",
     "text": [
      "365\n"
     ]
    }
   ],
   "source": [
    "#Q1:- how many total number of days does the flights table cover?\n",
    "\n",
    "# many flights on same day so using built-in 'set' data structure we can store\n",
    "# unique days available in the file then return the length of the set to return total number of days.\n",
    "\n",
    "def total_number_of_days(flights_file):\n",
    "    \"\"\"\n",
    "    returns the total number of days in given csv file.\n",
    "    \"\"\"\n",
    "    unique_days = set()\n",
    "    with open(flights_file) as flights:\n",
    "        csv_reader = csv.DictReader(flights)\n",
    "        for line in csv_reader:\n",
    "            date = (line[\"year\"], line[\"month\"], line[\"day\"])\n",
    "            unique_days.add(date)\n",
    "    return len(unique_days)\n",
    "\n",
    "print(total_number_of_days(\"flights.csv\"))  # Output = 365\n"
   ]
  },
  {
   "cell_type": "code",
   "execution_count": 28,
   "id": "4c006fab",
   "metadata": {},
   "outputs": [
    {
     "name": "stdout",
     "output_type": "stream",
     "text": [
      "{'New York', 'Newark'}\n"
     ]
    }
   ],
   "source": [
    "# Q2:- how many departure cities (not airports) does the flights database cover?\n",
    "\n",
    "# Stored all the unique departure airports in the list.\n",
    "# Then iterating through those and airports database at the same time to get the cities.\n",
    "\n",
    "def departure_cities(flights_file, airports_file):\n",
    "    \"\"\"\n",
    "    returns the cities that the flights database cover.\n",
    "    \"\"\"\n",
    "    departure_airports = []\n",
    "    cities = set()\n",
    "    with open(flights_file) as flights:\n",
    "        flights_reader = csv.DictReader(flights)\n",
    "        for line in flights_reader:\n",
    "            if line[\"origin\"] not in departure_airports:\n",
    "                departure_airports.append(line[\"origin\"])\n",
    "\n",
    "    with open(airports_file) as airports:\n",
    "        airports_reader = csv.DictReader(airports)\n",
    "        for line in airports_reader:\n",
    "            for airport in departure_airports:\n",
    "                if line[\"IATA_CODE\"] == airport:\n",
    "                    cities.add(line[\"CITY\"])\n",
    "    return cities\n",
    "\n",
    "print(departure_cities(\"flights.csv\", \"airports.csv\"))  # Output = {'New York', 'Newark'}\n",
    "   "
   ]
  },
  {
   "cell_type": "code",
   "execution_count": 29,
   "id": "85fcf30c",
   "metadata": {},
   "outputs": [
    {
     "name": "stdout",
     "output_type": "stream",
     "text": [
      "['year', 'tailnum']\n"
     ]
    }
   ],
   "source": [
    "# Q3:- what is the relationship between flights and planes tables?\n",
    "\n",
    "# using List Comprehensions.\n",
    "\n",
    "\n",
    "def relationship(flights_file, planes_file):\n",
    "    \"\"\"\n",
    "    returns the relationship between two databases.\n",
    "    \"\"\"\n",
    "    with open(flights_file) as flights:\n",
    "        flights_reader = csv.reader(flights)\n",
    "        flights_coloums = next(flights_reader)\n",
    "        with open(planes_file) as planes:\n",
    "            planes_reader = csv.reader(planes)\n",
    "            planes_coloums = next(planes_reader)\n",
    "            relationship = [\n",
    "                relation for relation in flights_coloums if relation in planes_coloums\n",
    "            ]\n",
    "    if not relationship:\n",
    "        return None\n",
    "    return relationship\n",
    "\n",
    "print(relationship(\"flights.csv\", \"planes.csv\"))  # Output = ['year', 'tailnum']\n"
   ]
  },
  {
   "cell_type": "code",
   "execution_count": 30,
   "id": "3502c67e",
   "metadata": {},
   "outputs": [
    {
     "name": "stdout",
     "output_type": "stream",
     "text": [
      "EMBRAER\n"
     ]
    }
   ],
   "source": [
    "# Q4:- which airplane manufacturer incurred the most delays in the analysis period?\n",
    "\n",
    "#using dictionaries store all the plane models with its total delay.\n",
    "\n",
    "\n",
    "\n",
    "def manufacturer_with_most_delays(flights_file, planes_file):\n",
    "    \"\"\"\n",
    "    returns the manufacturer of the plane, which has done most amount of delay.\n",
    "    \"\"\"\n",
    "    tailnums_with_delay_count = dict()\n",
    "    result = \"\"\n",
    "    with open(flights_file) as flights:\n",
    "        flights_reader = csv.DictReader(flights)\n",
    "        for line in flights_reader:\n",
    "            tailnum = line[\"tailnum\"]\n",
    "            # Parsing the delays to get the proper values. as there are other values as well like 'NA'\n",
    "            arr_delay = \"\".join(x for x in line[\"arr_delay\"] if x.isdigit())\n",
    "            dep_delay = \"\".join(x for x in line[\"dep_delay\"] if x.isdigit())\n",
    "            # simply checking is plane model already in the dictionary.\n",
    "            if line[\"tailnum\"] not in tailnums_with_delay_count:\n",
    "                if arr_delay != \"\" and dep_delay != \"\":\n",
    "                    if int(dep_delay) > 0 and int(arr_delay) > 0:\n",
    "                        tailnums_with_delay_count[tailnum] = int(arr_delay) + int(\n",
    "                            dep_delay\n",
    "                        )\n",
    "                elif dep_delay != \"\":\n",
    "                    if int(dep_delay) > 0:\n",
    "                        tailnums_with_delay_count[tailnum] = int(dep_delay)\n",
    "                elif arr_delay != \"\":\n",
    "                    if int(arr_delay) > 0:\n",
    "                        tailnums_with_delay_count[tailnum] = int(arr_delay)\n",
    "                else:\n",
    "                    line[\"tailnum\"] = 0\n",
    "            # If it is already in the dictionary. We are adding the delay count to existing one.\n",
    "            else:\n",
    "                if arr_delay != \"\" and dep_delay != \"\":\n",
    "                    if int(dep_delay) > 0 and int(arr_delay) > 0:\n",
    "                        tailnums_with_delay_count[tailnum] += int(arr_delay) + int(\n",
    "                            dep_delay\n",
    "                        )\n",
    "                elif dep_delay != \"\":\n",
    "                    if int(dep_delay) > 0:\n",
    "                        tailnums_with_delay_count[tailnum] += int(dep_delay)\n",
    "                elif arr_delay != \"\":\n",
    "                    if int(arr_delay) > 0:\n",
    "                        tailnums_with_delay_count[tailnum] += int(arr_delay)\n",
    "    # Sorting the dictionary to get the plane model which has done most delay.\n",
    "    # but here comes the challenging part again. There is no entry in the planes\n",
    "    # database with has done most delay.\n",
    "    sorted_delayed_tailnums = sorted(\n",
    "        tailnums_with_delay_count.items(), key=lambda item: item[1]\n",
    "    )\n",
    "    # That's why iterating through the the sorted dictionary from behind.\n",
    "    # And checking if the plane model in present in the planes database or not\n",
    "    # to get the manufacturer of the plane.\n",
    "    i = 1\n",
    "    while i < len(sorted_delayed_tailnums):\n",
    "        with open(planes_file) as planes:\n",
    "            planes_reader = csv.DictReader(planes)\n",
    "            for line in planes_reader:\n",
    "                if line[\"tailnum\"] == sorted_delayed_tailnums[-i][0]:\n",
    "                    result = line[\"manufacturer\"]\n",
    "                    i = len(sorted_delayed_tailnums)\n",
    "        i += 1\n",
    "    return result\n",
    "\n",
    "print(manufacturer_with_most_delays(\"flights.csv\", \"planes.csv\"))  # Output = EMBRAER\n",
    "\n"
   ]
  },
  {
   "cell_type": "code",
   "execution_count": 31,
   "id": "04babb59",
   "metadata": {},
   "outputs": [
    {
     "name": "stdout",
     "output_type": "stream",
     "text": [
      "['New York', 'Los Angeles']\n"
     ]
    }
   ],
   "source": [
    "# Q5:- which are the two most connected cities?\n",
    "\n",
    "# using built-in dictionaries. By storing the connected airports as a tuple in the dictionary with its count,\n",
    "# After sorting the dictionary we'll get the most connected airports. Which would be last key value pair.\n",
    "# Then we can simply lookup the values in airports database.\n",
    "\n",
    "\n",
    "def two_most_connected_cities(flights_file, airports_file):\n",
    "    \"\"\"\n",
    "    return two most connected cities from flights database.\n",
    "    \"\"\"\n",
    "    with open(flights_file) as flights:\n",
    "        connected_airports_frequency = dict()\n",
    "        flights_reader = csv.DictReader(flights)\n",
    "        for line in flights_reader:\n",
    "            if (line[\"origin\"], line[\"dest\"]) not in connected_airports_frequency:\n",
    "                connected_airports_frequency[(line[\"origin\"], line[\"dest\"])] = 1\n",
    "            connected_airports_frequency[(line[\"origin\"], line[\"dest\"])] += 1\n",
    "        most_connected_airports = sorted(\n",
    "            connected_airports_frequency.items(), key=lambda item: item[1]\n",
    "        )[-1]\n",
    "    two_most_connected_cities = []\n",
    "    with open(airports_file) as airports:\n",
    "        airports_reader = csv.DictReader(airports)\n",
    "        for line in airports_reader:\n",
    "            for airport in most_connected_airports[0]:\n",
    "                if airport == line[\"IATA_CODE\"]:\n",
    "                    two_most_connected_cities.append(line[\"CITY\"])\n",
    "    return two_most_connected_cities\n",
    "\n",
    "print(two_most_connected_cities(\"flights.csv\", \"airports.csv\"))  # Output = ['New York', 'Los Angeles']\n"
   ]
  }
 ],
 "metadata": {
  "kernelspec": {
   "display_name": "Python 3",
   "language": "python",
   "name": "python3"
  },
  "language_info": {
   "codemirror_mode": {
    "name": "ipython",
    "version": 3
   },
   "file_extension": ".py",
   "mimetype": "text/x-python",
   "name": "python",
   "nbconvert_exporter": "python",
   "pygments_lexer": "ipython3",
   "version": "3.8.8"
  }
 },
 "nbformat": 4,
 "nbformat_minor": 5
}
